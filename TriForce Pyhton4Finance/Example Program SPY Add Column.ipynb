{
 "cells": [
  {
   "cell_type": "code",
   "execution_count": 2,
   "metadata": {},
   "outputs": [],
   "source": [
    "##imports\n",
    "import pandas as pd\n",
    "import numpy as np\n",
    "import csv"
   ]
  },
  {
   "cell_type": "code",
   "execution_count": 3,
   "metadata": {},
   "outputs": [],
   "source": [
    "##import data\n",
    "Data = pd.read_csv(\"E:\\yFinance Data\\^GSPC.csv\", index_col = \"Date\")"
   ]
  },
  {
   "cell_type": "code",
   "execution_count": 4,
   "metadata": {},
   "outputs": [
    {
     "name": "stdout",
     "output_type": "stream",
     "text": [
      "                 Open       High        Low      Close  Adj Close  Volume\n",
      "Date                                                                     \n",
      "1927-12-30  17.660000  17.660000  17.660000  17.660000  17.660000       0\n",
      "1928-01-03  17.760000  17.760000  17.760000  17.760000  17.760000       0\n",
      "1928-01-04  17.719999  17.719999  17.719999  17.719999  17.719999       0\n",
      "1928-01-05  17.549999  17.549999  17.549999  17.549999  17.549999       0\n",
      "1928-01-06  17.660000  17.660000  17.660000  17.660000  17.660000       0\n"
     ]
    }
   ],
   "source": [
    "print(Data.head())"
   ]
  },
  {
   "cell_type": "code",
   "execution_count": 6,
   "metadata": {},
   "outputs": [
    {
     "name": "stdout",
     "output_type": "stream",
     "text": [
      "            Time       Open       High        Low      Close  Adj Close  \\\n",
      "Date                                                                      \n",
      "1927-12-30  1700  17.660000  17.660000  17.660000  17.660000  17.660000   \n",
      "1928-01-03  1700  17.760000  17.760000  17.760000  17.760000  17.760000   \n",
      "1928-01-04  1700  17.719999  17.719999  17.719999  17.719999  17.719999   \n",
      "1928-01-05  1700  17.549999  17.549999  17.549999  17.549999  17.549999   \n",
      "1928-01-06  1700  17.660000  17.660000  17.660000  17.660000  17.660000   \n",
      "\n",
      "            Volume  \n",
      "Date                \n",
      "1927-12-30       0  \n",
      "1928-01-03       0  \n",
      "1928-01-04       0  \n",
      "1928-01-05       0  \n",
      "1928-01-06       0  \n"
     ]
    }
   ],
   "source": [
    "##insert a column more specific\n",
    "Time_Data = 1700\n",
    "Data.insert(loc = 0, column = \"Time\", value = Time_Data)  ##loc = 0 puts it into column 1\n",
    "print(Data.head())"
   ]
  },
  {
   "cell_type": "code",
   "execution_count": 9,
   "metadata": {},
   "outputs": [],
   "source": [
    "Data[\"Returns\"] = (Data['Close'].shift(1)/Data['Close']-1)*100 ##"
   ]
  },
  {
   "cell_type": "code",
   "execution_count": 10,
   "metadata": {},
   "outputs": [
    {
     "name": "stdout",
     "output_type": "stream",
     "text": [
      "            Time       Open       High        Low      Close  Adj Close  \\\n",
      "Date                                                                      \n",
      "1927-12-30  1700  17.660000  17.660000  17.660000  17.660000  17.660000   \n",
      "1928-01-03  1700  17.760000  17.760000  17.760000  17.760000  17.760000   \n",
      "1928-01-04  1700  17.719999  17.719999  17.719999  17.719999  17.719999   \n",
      "1928-01-05  1700  17.549999  17.549999  17.549999  17.549999  17.549999   \n",
      "1928-01-06  1700  17.660000  17.660000  17.660000  17.660000  17.660000   \n",
      "\n",
      "            Volume    T1   Returns  \n",
      "Date                                \n",
      "1927-12-30       0  1700       NaN  \n",
      "1928-01-03       0  1700 -0.563063  \n",
      "1928-01-04       0  1700  0.225739  \n",
      "1928-01-05       0  1700  0.968661  \n",
      "1928-01-06       0  1700 -0.622882  \n"
     ]
    }
   ],
   "source": [
    "print(Data.head())"
   ]
  },
  {
   "cell_type": "code",
   "execution_count": 12,
   "metadata": {},
   "outputs": [],
   "source": [
    "##print to csv file\n",
    "Data.to_csv(\"E:\\yFinance Data\\Python_to_CSV_EXAMPLE.csv\", header = False, index = True)"
   ]
  },
  {
   "cell_type": "code",
   "execution_count": null,
   "metadata": {},
   "outputs": [],
   "source": []
  }
 ],
 "metadata": {
  "kernelspec": {
   "display_name": "Python 3",
   "language": "python",
   "name": "python3"
  },
  "language_info": {
   "codemirror_mode": {
    "name": "ipython",
    "version": 3
   },
   "file_extension": ".py",
   "mimetype": "text/x-python",
   "name": "python",
   "nbconvert_exporter": "python",
   "pygments_lexer": "ipython3",
   "version": "3.8.3"
  }
 },
 "nbformat": 4,
 "nbformat_minor": 4
}
